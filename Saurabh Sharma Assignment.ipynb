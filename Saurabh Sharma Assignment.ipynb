{
  "cells": [
    {
      "cell_type": "markdown",
      "metadata": {
        "id": "946b9f6d"
      },
      "source": [
        "---\n",
        "format:\n",
        "  html:\n",
        "    embed-resources: true\n",
        "    code-fold: true\n",
        "---"
      ]
    },
    {
      "cell_type": "markdown",
      "metadata": {
        "id": "iVppaDA38LUk"
      },
      "source": [
        "Project Title:\n",
        "\n",
        "\"Economic, Demographic, and Energy Consumption Trends across the BRICS Nations\"\n",
        "(Brazil, Russia, India, China, and South Africa)\n",
        "\n",
        "By\n",
        "Saurabh Sharma\n",
        "\n",
        "Enrollment no-A0048584\n"
      ]
    },
    {
      "cell_type": "code",
      "source": [],
      "metadata": {
        "id": "vFMlfzwA55EJ"
      },
      "execution_count": null,
      "outputs": []
    },
    {
      "cell_type": "markdown",
      "metadata": {
        "id": "SEFtTUFk8Xaj"
      },
      "source": [
        "**Graph 1:** Military Expenditure as % of GDP (Line Plot)\n",
        "\n",
        "Story: Shows changing military priorities.\n",
        "\n",
        "Insight:\n",
        "\n",
        "South Africa's peak reflects apartheid-era tensions.\n",
        "\n",
        "India consistently prioritizes defense.\n",
        "\n",
        "China's rise correlates with its economic ascent.\n",
        "\n",
        "Brazil and South Africa shift funds toward civil sectors.\n",
        "\n",
        "**Graph 2:** Population Trends (Stacked Bar Plot)\n",
        "\n",
        "Story: Highlights demographic dominance of China and India.\n",
        "\n",
        "Insight:\n",
        "\n",
        "India's rising population is narrowing the gap with China.\n",
        "\n",
        "Brazil and South Africa grow slowly but steadily.\n",
        "\n",
        "Implication: Economic pressure and opportunity in labor markets.\n",
        "\n",
        "**Graph 3:** Energy Consumption Mix (A Stacked Area Graph)\n",
        "\n",
        "Story: Energy dependency and sustainability.\n",
        "\n",
        "Insight:\n",
        "\n",
        "India and China rely heavily on fossil fuels.\n",
        "\n",
        "Brazil showcases a more diverse, possibly greener energy profile.\n",
        "\n",
        "South Africa’s coal addiction makes it a key climate concern.\n",
        "\n",
        "**Graph 4:** Heatmaps (Correlation Matrices)\n",
        "\n",
        "Story: Statistical relationships between key development indicators.\n",
        "\n",
        "For Brazil:\n",
        "\n",
        "Weak correlation between GDP growth and military spending.\n",
        "\n",
        "Negative link between GDP growth and life expectancy.\n",
        "\n",
        "Strong positive correlation between energy use and life expectancy — reflecting development needs."
      ]
    },
    {
      "cell_type": "markdown",
      "metadata": {
        "id": "nW_Od-8F8VdV"
      },
      "source": []
    },
    {
      "cell_type": "code",
      "execution_count": null,
      "metadata": {
        "id": "f299a67f"
      },
      "outputs": [],
      "source": [
        "import pandas as pd\n",
        "import matplotlib.pyplot as plt\n",
        "import seaborn as sns\n",
        "\n",
        "\n"
      ]
    },
    {
      "cell_type": "code",
      "execution_count": null,
      "metadata": {
        "id": "b3ff8a12"
      },
      "outputs": [],
      "source": [
        "\n",
        "df = pd.read_csv('unicef_metadata.csv')\n",
        "df.columns = df.columns.str.strip().str.lower().str.replace(r\"[^\\w\\s]\", '').str.replace(' ', '_')\n",
        "df.head()\n"
      ]
    },
    {
      "cell_type": "code",
      "execution_count": null,
      "metadata": {
        "id": "0322c044"
      },
      "outputs": [],
      "source": []
    },
    {
      "cell_type": "markdown",
      "metadata": {
        "id": "zTsTHrMEZ_Iq"
      },
      "source": [
        "Economic, Demographic and Energy consumpution trends across the BRICS\n",
        "        (BRAZIL, RUSSIA, INDIA, CHINA & BRAZIL)\n"
      ]
    },
    {
      "cell_type": "code",
      "execution_count": null,
      "metadata": {
        "id": "80703a0a"
      },
      "outputs": [],
      "source": [
        "threshold = int(df.shape[1] * 0.75)\n",
        "df_clean = df.dropna(thresh=threshold)\n"
      ]
    },
    {
      "cell_type": "code",
      "execution_count": null,
      "metadata": {
        "id": "729e29b9"
      },
      "outputs": [],
      "source": [
        "brics = ['Brazil', 'Russia', 'India', 'China', 'South Africa']\n",
        "df_brics = df[df['country'].isin(brics)]"
      ]
    },
    {
      "cell_type": "code",
      "execution_count": null,
      "metadata": {
        "id": "6e3d2c23"
      },
      "outputs": [],
      "source": [
        "df_brics = df_brics.dropna(thresh=int(df_brics.shape[1] * 0.75))"
      ]
    },
    {
      "cell_type": "code",
      "execution_count": null,
      "metadata": {
        "id": "fb00561a"
      },
      "outputs": [],
      "source": [
        "plt.figure(figsize=(10, 6))\n",
        "sns.lineplot(data=df_brics, x='year', y='military_expenditure__of_gdp', hue='country')\n",
        "plt.title('Military Expenditure (% of GDP) Over Time - BRICS')\n",
        "plt.xlabel('Year')\n",
        "plt.ylabel('Military Expenditure (% of GDP)')\n",
        "plt.legend(title='Country')\n",
        "plt.show()"
      ]
    },
    {
      "cell_type": "markdown",
      "metadata": {
        "id": "uR2Sy_gsVqOj"
      },
      "source": [
        "This graph illustrates military expenditure as a percentage of GDP in BRICS countries over time. South Africa showed a sharp peak around 1978–1990, spending over 5% of GDP, likely due to regional conflicts and apartheid-era policies, before declining steadily. India maintained consistently higher military spending among the group, fluctuating between 2.5%–4% of GDP. China has shown a gradual increase since the 1990s, stabilizing around 1.7%. Brazil and South Africa both exhibit long-term downward trends, reflecting shifts in national priorities. Overall, the graph shows varying defense investment patterns shaped by each country's geopolitical situation, economic development, and military strategy."
      ]
    },
    {
      "cell_type": "code",
      "execution_count": null,
      "metadata": {
        "id": "a634dc8e"
      },
      "outputs": [],
      "source": [
        "plt.figure(figsize=(10, 6))\n",
        "sns.scatterplot(data=df_brics, x='year', y='fossil_fuel_energy_consumption__of_total', hue='country')\n",
        "plt.title('Fossil Fuel Energy Consumption (% of Total) - BRICS')\n",
        "plt.xlabel('Year')\n",
        "plt.ylabel('Fossil Fuel Consumption (%)')\n",
        "plt.legend(title='Country')\n",
        "plt.tight_layout()\n",
        "plt.show()"
      ]
    },
    {
      "cell_type": "markdown",
      "metadata": {
        "id": "zP0wmqlZU8FE"
      },
      "source": [
        "India and China's trajectories show increasing reliance on fossil fuels despite global climate goals, calling for urgent transition strategies.\n",
        "\n",
        "Brazil’s diversified energy profile could serve as a model for sustainable development.\n",
        "\n",
        "South Africa's heavy coal use makes it a high emitter, highlighting the need for energy sector reforms.\n",
        "\n",
        "\n"
      ]
    },
    {
      "cell_type": "code",
      "execution_count": null,
      "metadata": {
        "id": "1fdcad1c"
      },
      "outputs": [],
      "source": [
        "import pandas as pd\n",
        "import matplotlib.pyplot as plt\n",
        "\n",
        "# Load the data\n",
        "file_path = \"data/unicef_metadata.csv\"  # Adjust the path if needed\n",
        "df = pd.read_csv('unicef_metadata.csv')\n",
        "df.columns = df.columns.str.strip().str.lower().str.replace(r\"[^\\w\\s]\", '').str.replace(' ', '_')\n",
        "\n",
        "# Filter for BRICS countries\n",
        "brics = ['Brazil', 'Russia', 'India', 'China', 'South Africa']\n",
        "df_brics = df[(df['country'].isin(brics)) & (df['year'].between(2000, 2020))]\n",
        "\n",
        "# Pivot the data: years as index, countries as columns\n",
        "df_pivot = df_brics.pivot(index='year', columns='country', values='population_total')\n",
        "df_pivot = df_pivot.sort_index()\n",
        "\n",
        "# Plot\n",
        "plt.figure(figsize=(16, 8))\n",
        "df_pivot.plot(kind='bar', stacked=True, colormap='Set2', figsize=(16, 8))\n",
        "\n",
        "# Add titles and labels\n",
        "plt.title('Population Growth (2000–2020) - BRICS')\n",
        "plt.ylabel('Population (Billions)')\n",
        "plt.xlabel('Year')\n",
        "\n",
        "# Format y-axis to show billions\n",
        "plt.gca().yaxis.set_major_formatter(plt.FuncFormatter(lambda x, _: f'{x * 1e-9:.1f}B'))\n",
        "\n",
        "# Move legend out of the way\n",
        "plt.legend(title='Country', bbox_to_anchor=(1.05, 1), loc='upper left')\n",
        "plt.tight_layout()\n",
        "\n",
        "# Show the plot\n",
        "plt.show()\n"
      ]
    },
    {
      "cell_type": "markdown",
      "metadata": {
        "id": "8H-9RgSfWJKr"
      },
      "source": [
        "This stacked bar graph shows the population growth of BRICS countries from 2000 to 2020. China and India dominate the chart, together comprising the vast majority of the total BRICS population. India's population shows a steady increase, gradually closing the gap with China, which also grows but at a slower rate due to population control policies. Brazil and South Africa have relatively smaller populations but also exhibit consistent growth over the years. The graph highlights the demographic weight of China and India within the BRICS group, with significant implications for labor markets, economic development, and global influence in the coming decades."
      ]
    },
    {
      "cell_type": "code",
      "execution_count": null,
      "metadata": {
        "id": "b32a2ff8"
      },
      "outputs": [],
      "source": [
        "import matplotlib.pyplot as plt\n",
        "import seaborn as sns\n",
        "\n",
        "# Define the BRICS countries\n",
        "brics = ['Brazil', 'Russia', 'India', 'China', 'South Africa']\n",
        "\n",
        "# Define only the key indicators you want to visualize\n",
        "indicators = [\n",
        "    'gdp_growth_annual_',\n",
        "    'military_expenditure__of_gdp',\n",
        "    'life_expectancy_at_birth_total_years',\n",
        "    'fossil_fuel_energy_consumption__of_total'\n",
        "]\n",
        "\n",
        "# Loop through each BRICS country\n",
        "for country in brics:\n",
        "    country_data = df_brics[df_brics['country'] == country][indicators].dropna()\n",
        "\n",
        "    if not country_data.empty:\n",
        "        corr_country = country_data.corr()\n",
        "\n",
        "        plt.figure(figsize=(8, 6))\n",
        "        sns.heatmap(corr_country, annot=True, cmap='coolwarm', fmt=\".2f\", linewidths=1, square=True)\n",
        "        plt.title(f'Correlation Between Key Indicators - {country}', fontsize=13)\n",
        "        plt.xticks(rotation=30, ha='right')\n",
        "        plt.yticks(rotation=0)\n",
        "        plt.tight_layout()\n",
        "        plt.show()\n"
      ]
    },
    {
      "cell_type": "markdown",
      "metadata": {
        "id": "LKdl_fYVW4SG"
      },
      "source": [
        "A. The heatmap for Brazil illustrates relationships between four key development indicators:\n",
        "\n",
        "1. GDP Growth vs. Other Indicators:  \n",
        "   GDP growth has a **weak positive correlation** with military expenditure (0.26), suggesting slight alignment between economic growth and defense spending. However, it is **negatively correlated** with both life expectancy (-0.42) and fossil fuel energy consumption (-0.34), possibly indicating that economic growth periods may come at environmental or health costs.\n",
        "\n",
        "2. Military Expenditure:  \n",
        "   Military spending negatively correlates with life expectancy (-0.37) and fossil fuel use (-0.37), implying higher defense budgets may coincide with adverse social or environmental conditions.\n",
        "\n",
        "3. Life Expectancy vs. Fossil Fuel Use:  \n",
        "   The **strongest positive correlation** (0.56) is between life expectancy and fossil fuel consumption, potentially reflecting increased energy use in development and healthcare infrastructure.\n",
        "\n",
        "In summary, economic and military metrics may not align positively with social well-being in Brazil, highlighting the importance of sustainable growth policies.\n",
        "\n",
        "\n",
        "The heatmap of India reveals several insights. GDP growth shows a moderate positive correlation with life expectancy (0.45) and fossil fuel energy consumption (0.44), suggesting economic progress may support development and energy usage. Military expenditure, however, is negatively correlated with life expectancy (-0.67) and fossil fuel use (-0.68), indicating that higher defense spending might be associated with reduced social and environmental development. The strongest correlation (0.99) is between life expectancy and fossil fuel use, implying that rising energy access may contribute to longer lifespans. Overall, India's development appears linked to energy use and social well-being more than military spending.\n",
        "\n",
        "\n",
        " The Heat Map of China shows GDP growth has a weak positive relationship with fossil fuel consumption (0.12) and life expectancy (0.06), and a slight negative link to military expenditure (-0.24). Military spending negatively correlates with both life expectancy (-0.57) and fossil fuel use (-0.56), indicating potential trade-offs between defense and social/environmental priorities. Life expectancy and fossil fuel consumption show an extremely strong positive correlation (0.98), suggesting that increased energy access may contribute significantly to longer lives. Overall, China's development appears driven by energy access and life quality, with military expenditure showing inverse associations with these factors.\n",
        "\n",
        "D.The heatmap of South Africa shows weak negative relationships with military expenditure (-0.22) and life expectancy (-0.45), and almost no correlation with fossil fuel use (0.05). Military expenditure is positively correlated with both fossil fuel consumption (0.51) and life expectancy (0.37), suggesting increased defense spending may accompany higher energy use and modest health improvements. Interestingly, life expectancy has a slight negative correlation with fossil fuel use (-0.13), possibly indicating environmental or health trade-offs. Overall, South Africa presents a mixed development picture, with weak GDP links but a notable interaction between energy, defense, and health outcomes.\n",
        "\n",
        "\n",
        "\n"
      ]
    },
    {
      "cell_type": "code",
      "execution_count": null,
      "metadata": {
        "id": "16ad38df"
      },
      "outputs": [],
      "source": [
        "!pip install plotly pandas\n",
        "\n",
        "import pandas as pd\n",
        "import plotly.express as px\n",
        "\n"
      ]
    },
    {
      "cell_type": "code",
      "execution_count": null,
      "metadata": {
        "id": "64a4f50c"
      },
      "outputs": [],
      "source": [
        "# Load the uploaded CSV file\n",
        "df = pd.read_csv('unicef_metadata.csv')\n",
        "\n",
        "# Display first few rows to verify\n",
        "df.head()\n"
      ]
    },
    {
      "cell_type": "code",
      "execution_count": null,
      "metadata": {
        "id": "89265c20"
      },
      "outputs": [],
      "source": [
        "# Define BRICS countries\n",
        "brics = ['Brazil', 'Russia', 'India', 'China', 'South Africa']\n",
        "\n",
        "# Filter for BRICS countries\n",
        "df_brics = df[df['country'].isin(brics)]\n",
        "\n",
        "# Select a specific year, e.g., 2020 (if available)\n",
        "df_brics_2020 = df_brics[df_brics['year'] == 2020]\n",
        "\n",
        "# Select country and life expectancy columns\n",
        "life_expectancy_map = df_brics_2020[['country', 'life_expectancy_at_birth_total_years']]\n",
        "\n",
        "# Preview\n",
        "life_expectancy_map\n"
      ]
    },
    {
      "cell_type": "markdown",
      "metadata": {
        "id": "ZShcrfPbUUTo"
      },
      "source": []
    },
    {
      "cell_type": "markdown",
      "metadata": {
        "id": "moGwnybvU1K0"
      },
      "source": []
    },
    {
      "cell_type": "code",
      "execution_count": null,
      "metadata": {
        "id": "4fe3a042"
      },
      "outputs": [],
      "source": [
        "import pandas as pd\n",
        "import plotly.express as px\n",
        "\n",
        "# Sample data for BRICS countries' life expectancy in 2020\n",
        "data = {\n",
        "    'country': ['Brazil', 'Russia', 'India', 'China', 'South Africa'],\n",
        "    'iso_alpha': ['BRA', 'RUS', 'IND', 'CHN', 'ZAF'],\n",
        "    'life_expectancy': [75.3, 72.6, 69.7, 77.5, 64.1]\n",
        "}\n",
        "\n",
        "df = pd.DataFrame(data)\n",
        "\n",
        "# Create choropleth map\n",
        "fig = px.choropleth(\n",
        "    df,\n",
        "    locations=\"iso_alpha\",\n",
        "    color=\"life_expectancy\",\n",
        "    hover_name=\"country\",\n",
        "    color_continuous_scale=\"Viridis\",\n",
        "    projection=\"natural earth\",\n",
        "    title=\"🌍 Life Expectancy at Birth in BRICS Countries (2020)\",\n",
        ")\n",
        "\n",
        "# Update layout for aesthetics\n",
        "fig.update_layout(\n",
        "    title_font=dict(size=22, family=\"Georgia\", color=\"darkblue\"),\n",
        "    geo=dict(\n",
        "        showframe=False,\n",
        "        showcoastlines=True,\n",
        "        coastlinecolor=\"gray\",\n",
        "        showland=True,\n",
        "        landcolor=\"whitesmoke\",\n",
        "        projection_scale=1,\n",
        "        center=dict(lat=0, lon=60),\n",
        "    ),\n",
        "    coloraxis_colorbar=dict(\n",
        "        title=\"Years\",\n",
        "        tickvals=[60, 65, 70, 75, 80],\n",
        "        title_font=dict(size=16),  # Corrected from 'title_font'\n",
        "        tickfont=dict(size=14)\n",
        "    )\n",
        ")\n",
        "\n",
        "fig.show()\n"
      ]
    },
    {
      "cell_type": "code",
      "execution_count": null,
      "metadata": {
        "id": "5a54df53"
      },
      "outputs": [],
      "source": []
    },
    {
      "cell_type": "markdown",
      "metadata": {
        "id": "gfMj7l5O9zif"
      },
      "source": [
        "**Summary of Story**\n",
        " This project delves into the evolving socio-economic and energy landscapes of the BRICS countries over the past two decades. By leveraging visual tools like graphs and heatmaps, it compares defense spending, energy consumption patterns, demographic shifts, and economic development. The analysis reveals that while countries like Brazil exemplify more balanced growth, others like India, China, and South Africa face the challenge of aligning rapid economic expansion with sustainability and social well-being. The study highlights how these nations, despite being grouped together geopolitically, follow divergent paths shaped by their unique histories, resources, and policy priorities."
      ]
    },
    {
      "cell_type": "code",
      "execution_count": null,
      "metadata": {
        "id": "d0c2bdeb"
      },
      "outputs": [],
      "source": []
    }
  ],
  "metadata": {
    "colab": {
      "provenance": []
    },
    "kernelspec": {
      "display_name": "Python 3",
      "name": "python3"
    }
  },
  "nbformat": 4,
  "nbformat_minor": 0
}